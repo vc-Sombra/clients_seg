{
 "cells": [
  {
   "cell_type": "code",
   "execution_count": 56,
   "metadata": {},
   "outputs": [],
   "source": [
    "import pandas as pd\n",
    "import numpy as np"
   ]
  },
  {
   "cell_type": "code",
   "execution_count": 16,
   "metadata": {},
   "outputs": [],
   "source": [
    "file_path_orders_payment = r'C:\\Users\\mathe\\Projects\\clients_seg_database\\olist_order_payments_dataset.csv'\n",
    "file_path_orders = r'C:\\Users\\mathe\\Projects\\clients_seg_database\\olist_orders_dataset.csv'\n",
    "file_path_customers = r'C:\\Users\\mathe\\Projects\\clients_seg_database\\olist_customers_dataset.csv'"
   ]
  },
  {
   "cell_type": "code",
   "execution_count": 18,
   "metadata": {},
   "outputs": [],
   "source": [
    "df_orders_payment = pd.read_csv(file_path_orders_payment)\n",
    "df_orders = pd.read_csv(file_path_orders)\n",
    "df_customers = pd.read_csv(file_path_customers)"
   ]
  },
  {
   "cell_type": "code",
   "execution_count": 20,
   "metadata": {},
   "outputs": [],
   "source": [
    "df_orders_payment_selected = df_orders_payment[['order_id', 'payment_type', 'payment_installments', 'payment_value']]\n",
    "df_orders_selected = df_orders[['order_id', 'customer_id', 'order_approved_at']]\n",
    "df_customers_selected = df_customers[['customer_id', 'customer_unique_id']]"
   ]
  },
  {
   "cell_type": "code",
   "execution_count": 27,
   "metadata": {},
   "outputs": [],
   "source": [
    "df_merge = pd.merge(\n",
    "    df_orders_payment_selected,\n",
    "    df_orders_selected,\n",
    "    left_on='order_id',\n",
    "    right_on='order_id',\n",
    "    how='inner'\n",
    ")"
   ]
  },
  {
   "cell_type": "code",
   "execution_count": 52,
   "metadata": {},
   "outputs": [],
   "source": [
    "df_merge_2 = pd.merge(\n",
    "    df_merge,\n",
    "    df_customers_selected,\n",
    "    left_on='customer_id',\n",
    "    right_on='customer_id',\n",
    "    how='inner'\n",
    ")"
   ]
  },
  {
   "cell_type": "code",
   "execution_count": 53,
   "metadata": {},
   "outputs": [],
   "source": [
    "df_merge_2['order_approved_at'] = pd.to_datetime(df_merge_2['order_approved_at'])\n",
    "df_merge_2 = df_merge_2[df_merge_2['payment_type'] == 'credit_card']\n",
    "df_merge_2 = df_merge_2[df_merge_2['order_approved_at'].notna()]"
   ]
  },
  {
   "cell_type": "code",
   "execution_count": 54,
   "metadata": {},
   "outputs": [],
   "source": [
    "df_recencia_index = df_merge_2.groupby('customer_unique_id', as_index=False)['order_approved_at'].max()\n",
    "df_recencia_index = df_recencia_index.sort_values('order_approved_at', ascending=False)\n",
    "df_recencia_index['index'] = range(1, len(df_recencia_index) + 1)"
   ]
  },
  {
   "cell_type": "code",
   "execution_count": 57,
   "metadata": {},
   "outputs": [],
   "source": [
    "condicoes = [\n",
    "    (df_recencia_index['index'] <= (len(df_recencia_index) * 0.2)),\n",
    "    (df_recencia_index['index'] > (len(df_recencia_index) * 0.2)) & (df_recencia_index['index'] <= (len(df_recencia_index) * 0.4)),\n",
    "    (df_recencia_index['index'] > (len(df_recencia_index) * 0.4)) & (df_recencia_index['index'] <= (len(df_recencia_index) * 0.6)),\n",
    "    (df_recencia_index['index'] > (len(df_recencia_index) * 0.6)) & (df_recencia_index['index'] <= (len(df_recencia_index) * 0.8)),\n",
    "    (df_recencia_index['index'] > (len(df_recencia_index) * 0.8))\n",
    "]\n",
    "\n",
    "valores = [\n",
    "    '5',  \n",
    "    '4',  \n",
    "    '3',\n",
    "    '2',\n",
    "    '1'    \n",
    "]\n",
    "\n",
    "df_recencia_index['recencia_score'] = np.select(condicoes, valores, default='Outros')"
   ]
  },
  {
   "cell_type": "code",
   "execution_count": 58,
   "metadata": {},
   "outputs": [
    {
     "name": "stdout",
     "output_type": "stream",
     "text": [
      "                     customer_unique_id   order_approved_at  index  \\\n",
      "10638  24ac2b4327e25baf39f2119e4228976a 2018-08-29 15:10:26      1   \n",
      "52921  b701bebbdf478f5500348f03aff62121 2018-08-29 15:05:22      2   \n",
      "26702  5c58de6fb80e93396e2f35642666b693 2018-08-29 14:31:07      3   \n",
      "35250  7a22d14aa3c3599238509ddca4b93b01 2018-08-29 12:35:17      4   \n",
      "1181   0421e7a23f21e5d54efed456aedbc513 2018-08-29 11:24:02      5   \n",
      "...                                 ...                 ...    ...   \n",
      "37663  823c47d4abda1f8ce7568145f76c2b85 2016-10-04 10:26:40  74051   \n",
      "39467  88bc832f104b6dd684a17dbb1b76e778 2016-10-04 10:25:46  74052   \n",
      "39107  87776adb449c551e74c13fc34f036105 2016-10-04 10:19:23  74053   \n",
      "53418  b8b8726af116a5cfb35b0315ecef9172 2016-10-04 10:18:57  74054   \n",
      "5920   14359ea0c7a105749c0a56478825b015 2016-10-04 09:43:32  74055   \n",
      "\n",
      "      recencia_score  \n",
      "10638              5  \n",
      "52921              5  \n",
      "26702              5  \n",
      "35250              5  \n",
      "1181               5  \n",
      "...              ...  \n",
      "37663              1  \n",
      "39467              1  \n",
      "39107              1  \n",
      "53418              1  \n",
      "5920               1  \n",
      "\n",
      "[74055 rows x 4 columns]\n"
     ]
    }
   ],
   "source": [
    "print(df_recencia_index)"
   ]
  }
 ],
 "metadata": {
  "kernelspec": {
   "display_name": ".venv",
   "language": "python",
   "name": "python3"
  },
  "language_info": {
   "codemirror_mode": {
    "name": "ipython",
    "version": 3
   },
   "file_extension": ".py",
   "mimetype": "text/x-python",
   "name": "python",
   "nbconvert_exporter": "python",
   "pygments_lexer": "ipython3",
   "version": "3.13.2"
  }
 },
 "nbformat": 4,
 "nbformat_minor": 2
}
