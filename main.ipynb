{
 "cells": [
  {
   "cell_type": "code",
   "execution_count": 56,
   "metadata": {},
   "outputs": [],
   "source": [
    "import pandas as pd\n",
    "import numpy as np"
   ]
  },
  {
   "cell_type": "code",
   "execution_count": 16,
   "metadata": {},
   "outputs": [],
   "source": [
    "file_path_orders_payment = r'C:\\Users\\mathe\\Projects\\clients_seg_database\\olist_order_payments_dataset.csv'\n",
    "file_path_orders = r'C:\\Users\\mathe\\Projects\\clients_seg_database\\olist_orders_dataset.csv'\n",
    "file_path_customers = r'C:\\Users\\mathe\\Projects\\clients_seg_database\\olist_customers_dataset.csv'"
   ]
  },
  {
   "cell_type": "code",
   "execution_count": 18,
   "metadata": {},
   "outputs": [],
   "source": [
    "df_orders_payment = pd.read_csv(file_path_orders_payment)\n",
    "df_orders = pd.read_csv(file_path_orders)\n",
    "df_customers = pd.read_csv(file_path_customers)"
   ]
  },
  {
   "cell_type": "code",
   "execution_count": 20,
   "metadata": {},
   "outputs": [],
   "source": [
    "df_orders_payment_selected = df_orders_payment[['order_id', 'payment_type', 'payment_installments', 'payment_value']]\n",
    "df_orders_selected = df_orders[['order_id', 'customer_id', 'order_approved_at']]\n",
    "df_customers_selected = df_customers[['customer_id', 'customer_unique_id']]"
   ]
  },
  {
   "cell_type": "code",
   "execution_count": 27,
   "metadata": {},
   "outputs": [],
   "source": [
    "df_merge = pd.merge(\n",
    "    df_orders_payment_selected,\n",
    "    df_orders_selected,\n",
    "    left_on='order_id',\n",
    "    right_on='order_id',\n",
    "    how='inner'\n",
    ")"
   ]
  },
  {
   "cell_type": "code",
   "execution_count": 64,
   "metadata": {},
   "outputs": [],
   "source": [
    "df_merge_2 = pd.merge(\n",
    "    df_merge,\n",
    "    df_customers_selected,\n",
    "    left_on='customer_id',\n",
    "    right_on='customer_id',\n",
    "    how='inner'\n",
    ")"
   ]
  },
  {
   "cell_type": "code",
   "execution_count": 65,
   "metadata": {},
   "outputs": [],
   "source": [
    "df_merge_2['order_approved_at'] = pd.to_datetime(df_merge_2['order_approved_at'])\n",
    "df_merge_2 = df_merge_2[df_merge_2['payment_type'] == 'credit_card']\n",
    "df_merge_2 = df_merge_2[df_merge_2['order_approved_at'].notna()]"
   ]
  },
  {
   "cell_type": "code",
   "execution_count": 66,
   "metadata": {},
   "outputs": [],
   "source": [
    "df_recencia_index = df_merge_2.groupby('customer_unique_id', as_index=False)['order_approved_at'].max()\n",
    "df_recencia_index = df_recencia_index.sort_values('order_approved_at', ascending=False)\n",
    "df_recencia_index['index'] = range(1, len(df_recencia_index) + 1)"
   ]
  },
  {
   "cell_type": "code",
   "execution_count": 68,
   "metadata": {},
   "outputs": [],
   "source": [
    "condicoes = [\n",
    "    (df_recencia_index['index'] <= (len(df_recencia_index) * 0.2)),\n",
    "    (df_recencia_index['index'] > (len(df_recencia_index) * 0.2)) & (df_recencia_index['index'] <= (len(df_recencia_index) * 0.4)),\n",
    "    (df_recencia_index['index'] > (len(df_recencia_index) * 0.4)) & (df_recencia_index['index'] <= (len(df_recencia_index) * 0.6)),\n",
    "    (df_recencia_index['index'] > (len(df_recencia_index) * 0.6)) & (df_recencia_index['index'] <= (len(df_recencia_index) * 0.8)),\n",
    "    (df_recencia_index['index'] > (len(df_recencia_index) * 0.8))\n",
    "]\n",
    "\n",
    "valores = [\n",
    "    '5',  \n",
    "    '4',  \n",
    "    '3',\n",
    "    '2',\n",
    "    '1'    \n",
    "]\n",
    "\n",
    "df_recencia_index['recencia_score'] = np.select(condicoes, valores, default='Outros')"
   ]
  },
  {
   "cell_type": "code",
   "execution_count": 69,
   "metadata": {},
   "outputs": [],
   "source": [
    "df_frequency = pd.DataFrame(\n",
    "    df_merge_2['customer_unique_id'].value_counts()\n",
    ").reset_index()\n",
    "\n",
    "df_frequency.columns = ['customer_unique_id', 'orders_count']"
   ]
  },
  {
   "cell_type": "code",
   "execution_count": 97,
   "metadata": {},
   "outputs": [],
   "source": [
    "df_order_quantity_list = (\n",
    "    df_frequency['orders_count']\n",
    "    .value_counts()               \n",
    "    .reset_index()                \n",
    "    .rename(columns={\n",
    "        'count': 'customers_count'\n",
    "    })\n",
    "    .sort_values('orders_count', ascending=False)  \n",
    ")\n"
   ]
  },
  {
   "cell_type": "code",
   "execution_count": 99,
   "metadata": {},
   "outputs": [],
   "source": [
    "condicoes = [\n",
    "    (df_order_quantity_list['orders_count'] <= (len(df_order_quantity_list) * 0.2)),\n",
    "    (df_order_quantity_list['orders_count'] > (len(df_order_quantity_list) * 0.2)) & (df_order_quantity_list['orders_count'] <= (len(df_order_quantity_list) * 0.4)),\n",
    "    (df_order_quantity_list['orders_count'] > (len(df_order_quantity_list) * 0.4)) & (df_order_quantity_list['orders_count'] <= (len(df_order_quantity_list) * 0.6)),\n",
    "    (df_order_quantity_list['orders_count'] > (len(df_order_quantity_list) * 0.6)) & (df_order_quantity_list['orders_count'] <= (len(df_order_quantity_list) * 0.8)),\n",
    "    (df_order_quantity_list['orders_count'] > (len(df_order_quantity_list) * 0.8))\n",
    "]\n",
    "\n",
    "valores = [\n",
    "    '1',  \n",
    "    '2',  \n",
    "    '3',\n",
    "    '4',\n",
    "    '5'    \n",
    "]\n",
    "\n",
    "df_order_quantity_list['frequency_score'] = np.select(condicoes, valores, default='Outros')"
   ]
  },
  {
   "cell_type": "code",
   "execution_count": 102,
   "metadata": {},
   "outputs": [],
   "source": [
    "df_frenquency_index = df_frequency.merge(\n",
    "    df_order_quantity_list,\n",
    "    on='orders_count',\n",
    "    how='left'\n",
    ")\n",
    "df_frenquency_index = df_frenquency_index[['customer_unique_id', 'orders_count', 'frequency_score']]"
   ]
  },
  {
   "cell_type": "code",
   "execution_count": 105,
   "metadata": {},
   "outputs": [
    {
     "name": "stdout",
     "output_type": "stream",
     "text": [
      "                     customer_unique_id  orders_count frequency_score\n",
      "0      8d50f5eadf50201ccdcedfb9e2ac8455            17               5\n",
      "1      3e43e6105506432c953e165fb2acf44c             9               5\n",
      "2      6469f99c1f9dfae7733b25662e7f1782             7               4\n",
      "3      dc813062e0fc23409cd255f7f53c7074             6               4\n",
      "4      63cfc61cee11cbe306bff5857d00bfe4             6               4\n",
      "...                                 ...           ...             ...\n",
      "74050  107df8fcfe13d1a58006f0a11dc7522c             1               1\n",
      "74051  6608c37202accfe3cda3fca4c8a16062             1               1\n",
      "74052  3146229460ce28f41121b47929b046b0             1               1\n",
      "74053  8247de12f35a00cf569c5b6a00a746ec             1               1\n",
      "74054  9a3526eee723accd014ec683afe5bf20             1               1\n",
      "\n",
      "[74055 rows x 3 columns]\n"
     ]
    }
   ],
   "source": [
    "print(df_frenquency_index)"
   ]
  }
 ],
 "metadata": {
  "kernelspec": {
   "display_name": ".venv",
   "language": "python",
   "name": "python3"
  },
  "language_info": {
   "codemirror_mode": {
    "name": "ipython",
    "version": 3
   },
   "file_extension": ".py",
   "mimetype": "text/x-python",
   "name": "python",
   "nbconvert_exporter": "python",
   "pygments_lexer": "ipython3",
   "version": "3.13.2"
  }
 },
 "nbformat": 4,
 "nbformat_minor": 2
}
