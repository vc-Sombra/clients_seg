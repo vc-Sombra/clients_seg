{
 "cells": [
  {
   "cell_type": "code",
   "execution_count": 1,
   "metadata": {},
   "outputs": [],
   "source": [
    "import pandas as pd\n",
    "import numpy as np"
   ]
  },
  {
   "cell_type": "code",
   "execution_count": 2,
   "metadata": {},
   "outputs": [],
   "source": [
    "file_path_orders_payment = r'C:\\Users\\mathe\\Projects\\clients_seg_database\\olist_order_payments_dataset.csv'\n",
    "file_path_orders = r'C:\\Users\\mathe\\Projects\\clients_seg_database\\olist_orders_dataset.csv'\n",
    "file_path_customers = r'C:\\Users\\mathe\\Projects\\clients_seg_database\\olist_customers_dataset.csv'"
   ]
  },
  {
   "cell_type": "code",
   "execution_count": 3,
   "metadata": {},
   "outputs": [],
   "source": [
    "df_orders_payment = pd.read_csv(file_path_orders_payment)\n",
    "df_orders = pd.read_csv(file_path_orders)\n",
    "df_customers = pd.read_csv(file_path_customers)"
   ]
  },
  {
   "cell_type": "code",
   "execution_count": 4,
   "metadata": {},
   "outputs": [],
   "source": [
    "df_orders_payment_selected = df_orders_payment[['order_id', 'payment_type', 'payment_installments', 'payment_value']]\n",
    "df_orders_selected = df_orders[['order_id', 'customer_id', 'order_approved_at']]\n",
    "df_customers_selected = df_customers[['customer_id', 'customer_unique_id']]"
   ]
  },
  {
   "cell_type": "code",
   "execution_count": 5,
   "metadata": {},
   "outputs": [],
   "source": [
    "df_merge = pd.merge(\n",
    "    df_orders_payment_selected,\n",
    "    df_orders_selected,\n",
    "    left_on='order_id',\n",
    "    right_on='order_id',\n",
    "    how='inner'\n",
    ")"
   ]
  },
  {
   "cell_type": "code",
   "execution_count": 6,
   "metadata": {},
   "outputs": [],
   "source": [
    "df_merge_2 = pd.merge(\n",
    "    df_merge,\n",
    "    df_customers_selected,\n",
    "    left_on='customer_id',\n",
    "    right_on='customer_id',\n",
    "    how='inner'\n",
    ")"
   ]
  },
  {
   "cell_type": "code",
   "execution_count": 7,
   "metadata": {},
   "outputs": [],
   "source": [
    "df_merge_2['order_approved_at'] = pd.to_datetime(df_merge_2['order_approved_at'])\n",
    "df_merge_2 = df_merge_2[df_merge_2['payment_type'] == 'credit_card']\n",
    "df_merge_2 = df_merge_2[df_merge_2['order_approved_at'].notna()]"
   ]
  },
  {
   "cell_type": "code",
   "execution_count": 8,
   "metadata": {},
   "outputs": [],
   "source": [
    "df_recency = (\n",
    "    df_merge_2.groupby('customer_unique_id', as_index=False)['order_approved_at'].max()\n",
    "    .sort_values('order_approved_at', ascending=False)\n",
    "    .reset_index(drop=True)\n",
    ")"
   ]
  },
  {
   "cell_type": "code",
   "execution_count": 9,
   "metadata": {},
   "outputs": [],
   "source": [
    "df_recency['recency_score'] = pd.qcut(\n",
    "    df_recency['order_approved_at'],\n",
    "    q=5,                              # Divide em 5 grupos (20% cada)\n",
    "    labels=['1', '2', '3', '4', '5']  # Notas de 1 (menor) a 5 (maior)\n",
    ")"
   ]
  },
  {
   "cell_type": "code",
   "execution_count": 10,
   "metadata": {},
   "outputs": [],
   "source": [
    "df_frequency = (\n",
    "    df_merge_2['customer_unique_id']\n",
    "    .value_counts()\n",
    "    .reset_index()\n",
    "    .rename(columns={\n",
    "        'count': 'orders_count',\n",
    "    })\n",
    "    .sort_values('orders_count', ascending=False)\n",
    ")"
   ]
  },
  {
   "cell_type": "code",
   "execution_count": 11,
   "metadata": {},
   "outputs": [],
   "source": [
    "unique_orders = df_frequency['orders_count'].unique()\n",
    "orders_scoring = pd.qcut(\n",
    "    unique_orders,\n",
    "    q=5,\n",
    "    labels=['1', '2', '3', '4', '5']\n",
    ")\n",
    "\n",
    "frequency_score_map = dict(zip(unique_orders, orders_scoring))\n",
    "df_frequency['frequency_score'] = df_frequency['orders_count'].map(frequency_score_map)\n",
    "df_frenquency = df_frequency[['customer_unique_id', 'orders_count', 'frequency_score']].copy()"
   ]
  },
  {
   "cell_type": "code",
   "execution_count": 12,
   "metadata": {},
   "outputs": [],
   "source": [
    "df_payment = df_merge_2[['customer_unique_id', 'order_id', 'payment_installments', 'payment_value']].copy()\n",
    "df_payment['payment_total'] = df_payment['payment_installments'] * df_payment['payment_value']"
   ]
  },
  {
   "cell_type": "code",
   "execution_count": 13,
   "metadata": {},
   "outputs": [],
   "source": [
    "df_monetary = (\n",
    "    df_payment.groupby('customer_unique_id', as_index=False)['payment_total'].sum()\n",
    "    .sort_values('payment_total', ascending=False)\n",
    "    .reset_index(drop=True)\n",
    ")\n",
    "df_monetary = df_monetary[(df_monetary['payment_total'] > 0.00) & (df_monetary['payment_total'].notna())]"
   ]
  },
  {
   "cell_type": "code",
   "execution_count": 14,
   "metadata": {},
   "outputs": [],
   "source": [
    "df_monetary['monetary_score'] = pd.qcut(\n",
    "    df_monetary['payment_total'],\n",
    "    q=5,\n",
    "    labels=['1', '2', '3', '4', '5']\n",
    ")"
   ]
  },
  {
   "cell_type": "code",
   "execution_count": 15,
   "metadata": {},
   "outputs": [],
   "source": [
    "df_rfm = df_recency.merge(df_frequency, on='customer_unique_id', how='outer') \\\n",
    "             .merge(df_monetary, on='customer_unique_id', how='outer')\n",
    "df_rfm = df_rfm[['customer_unique_id', 'recency_score', 'frequency_score', 'monetary_score']]"
   ]
  },
  {
   "cell_type": "code",
   "execution_count": 16,
   "metadata": {},
   "outputs": [],
   "source": [
    "df_rfm = df_rfm.dropna(subset=['recency_score', 'frequency_score', 'monetary_score'])\n",
    "df_rfm['rfm_score'] = (\n",
    "    df_rfm['recency_score'].astype(str) + \n",
    "    df_rfm['frequency_score'].astype(str) + \n",
    "    df_rfm['monetary_score'].astype(str)\n",
    ")\n",
    "df_rfm = df_rfm.sort_values('rfm_score', ascending=False)"
   ]
  },
  {
   "cell_type": "code",
   "execution_count": 17,
   "metadata": {},
   "outputs": [],
   "source": [
    "conditions = [\n",
    "    (df_rfm['frequency_score'].isin(['4','5'])) & (df_rfm['recency_score'].isin(['4','5'])) & (df_rfm['monetary_score'] == '5'),\n",
    "    \n",
    "    (df_rfm['frequency_score'].isin(['4','5'])) & (df_rfm['recency_score'].isin(['4','5'])) & (df_rfm['monetary_score'] == '4'),\n",
    "    \n",
    "    (df_rfm['frequency_score'].isin(['3','4'])) & (df_rfm['recency_score'].isin(['3','4'])) & (df_rfm['monetary_score'].isin(['3','4'])),\n",
    "    \n",
    "    (df_rfm['frequency_score'].isin(['1','2'])) & (df_rfm['recency_score'].isin(['1','2'])) & (df_rfm['monetary_score'].isin(['1','2']))\n",
    "]\n",
    "\n",
    "segments = [\n",
    "    \"Excelência Total\",\n",
    "    \"Fidelização Prioritária\",\n",
    "    \"Oportunidade de Upsell\",\n",
    "    \"Reativação Crítica\"\n",
    "]\n",
    "\n",
    "df_rfm['segment'] = np.select(conditions, segments, default=\"Neutros\")\n",
    "df_rfm = df_rfm.reset_index(drop=True)"
   ]
  },
  {
   "cell_type": "code",
   "execution_count": 20,
   "metadata": {},
   "outputs": [],
   "source": [
    "df_rfm.to_excel(\"clients_seg.xlsx\", index=False)"
   ]
  }
 ],
 "metadata": {
  "kernelspec": {
   "display_name": ".venv",
   "language": "python",
   "name": "python3"
  },
  "language_info": {
   "codemirror_mode": {
    "name": "ipython",
    "version": 3
   },
   "file_extension": ".py",
   "mimetype": "text/x-python",
   "name": "python",
   "nbconvert_exporter": "python",
   "pygments_lexer": "ipython3",
   "version": "3.13.2"
  }
 },
 "nbformat": 4,
 "nbformat_minor": 2
}
